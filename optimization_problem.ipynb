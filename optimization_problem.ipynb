{
  "nbformat": 4,
  "nbformat_minor": 0,
  "metadata": {
    "colab": {
      "name": "optimization_problem.ipynb",
      "provenance": [],
      "authorship_tag": "ABX9TyNkeUxJOg4G9mMNmxRlT2nq",
      "include_colab_link": true
    },
    "kernelspec": {
      "name": "python3",
      "display_name": "Python 3"
    }
  },
  "cells": [
    {
      "cell_type": "markdown",
      "metadata": {
        "id": "view-in-github",
        "colab_type": "text"
      },
      "source": [
        "<a href=\"https://colab.research.google.com/github/yanghaopy/python-project/blob/master/optimization_problem.ipynb\" target=\"_parent\"><img src=\"https://colab.research.google.com/assets/colab-badge.svg\" alt=\"Open In Colab\"/></a>"
      ]
    },
    {
      "cell_type": "markdown",
      "metadata": {
        "id": "DrozbGDdFgE8"
      },
      "source": [
        "- optimization problem\n",
        "$$\n",
        "\\begin{align}\n",
        "& minimize \\enspace f_0(x)\\\\\n",
        "& subject\\; to \\enspace f_i(x) \\leq b_i, \\; i=1, ..., m\\\\\n",
        "&  \n",
        "\\end{align}\n",
        "$$"
      ]
    }
  ]
}